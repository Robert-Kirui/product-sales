{
 "cells": [
  {
   "cell_type": "markdown",
   "id": "8a963aad-d1e3-4477-a5a4-7fcd540f619a",
   "metadata": {},
   "source": [
    "#### Sales Analysis"
   ]
  },
  {
   "cell_type": "code",
   "execution_count": 2,
   "id": "1a8e78b1-d4c9-447d-a9bc-66599d8b4008",
   "metadata": {},
   "outputs": [],
   "source": [
    "import os\n",
    "import pandas as pd\n",
    "import matplotlib.pyplot as plt"
   ]
  },
  {
   "cell_type": "markdown",
   "id": "885e5090-79e9-4173-97c3-f12b966101fe",
   "metadata": {},
   "source": [
    "#### Merge sales data from different files into one"
   ]
  },
  {
   "cell_type": "code",
   "execution_count": 6,
   "id": "ace9da6e-fc53-4eee-b4fb-3a579196f6a4",
   "metadata": {},
   "outputs": [],
   "source": [
    "### Path to the directory containing sales files\n",
    "sales_folder_path = \"./sales_data\"\n",
    "\n",
    "### Get all the CSV files from the directory\n",
    "sales_files = [file for file in os.listdir(sales_folder_path) if file.endswith(\".csv\")]\n",
    "\n",
    "### Empty list to hold dataframes\n",
    "sales_dataframes = []\n",
    "\n",
    "### Read each CSV file and append it to the dataframes list\n",
    "for file in sales_files:\n",
    "    file_path = os.path.join(sales_folder_path, file)\n",
    "    sales_data = pd.read_csv(file_path)\n",
    "    sales_dataframes.append(sales_data)\n",
    "\n",
    "### Concatenate all dataframes into one\n",
    "test_all_sales_df = pd.concat(sales_dataframes, ignore_index=True)\n",
    "\n",
    "### Save the combined dataframe to a new CSV file\n",
    "test_all_sales_df.to_csv(\"test_all_sales_df.csv\", index=False)"
   ]
  },
  {
   "cell_type": "code",
   "execution_count": 7,
   "id": "3b8b7181-db47-403d-825b-8559494fcc03",
   "metadata": {},
   "outputs": [
    {
     "data": {
      "text/html": [
       "<div>\n",
       "<style scoped>\n",
       "    .dataframe tbody tr th:only-of-type {\n",
       "        vertical-align: middle;\n",
       "    }\n",
       "\n",
       "    .dataframe tbody tr th {\n",
       "        vertical-align: top;\n",
       "    }\n",
       "\n",
       "    .dataframe thead th {\n",
       "        text-align: right;\n",
       "    }\n",
       "</style>\n",
       "<table border=\"1\" class=\"dataframe\">\n",
       "  <thead>\n",
       "    <tr style=\"text-align: right;\">\n",
       "      <th></th>\n",
       "      <th>Order ID</th>\n",
       "      <th>Product</th>\n",
       "      <th>Quantity Ordered</th>\n",
       "      <th>Price Each</th>\n",
       "      <th>Order Date</th>\n",
       "      <th>Purchase Address</th>\n",
       "    </tr>\n",
       "  </thead>\n",
       "  <tbody>\n",
       "    <tr>\n",
       "      <th>0</th>\n",
       "      <td>278797</td>\n",
       "      <td>Wired Headphones</td>\n",
       "      <td>1</td>\n",
       "      <td>11.99</td>\n",
       "      <td>11/21/19 09:54</td>\n",
       "      <td>46 Park St, New York City, NY 10001</td>\n",
       "    </tr>\n",
       "    <tr>\n",
       "      <th>1</th>\n",
       "      <td>278798</td>\n",
       "      <td>USB-C Charging Cable</td>\n",
       "      <td>2</td>\n",
       "      <td>11.95</td>\n",
       "      <td>11/17/19 10:03</td>\n",
       "      <td>962 Hickory St, Austin, TX 73301</td>\n",
       "    </tr>\n",
       "    <tr>\n",
       "      <th>2</th>\n",
       "      <td>278799</td>\n",
       "      <td>Apple Airpods Headphones</td>\n",
       "      <td>1</td>\n",
       "      <td>150.0</td>\n",
       "      <td>11/19/19 14:56</td>\n",
       "      <td>464 Cherry St, Los Angeles, CA 90001</td>\n",
       "    </tr>\n",
       "    <tr>\n",
       "      <th>3</th>\n",
       "      <td>278800</td>\n",
       "      <td>27in FHD Monitor</td>\n",
       "      <td>1</td>\n",
       "      <td>149.99</td>\n",
       "      <td>11/25/19 22:24</td>\n",
       "      <td>649 10th St, Seattle, WA 98101</td>\n",
       "    </tr>\n",
       "    <tr>\n",
       "      <th>4</th>\n",
       "      <td>278801</td>\n",
       "      <td>Bose SoundSport Headphones</td>\n",
       "      <td>1</td>\n",
       "      <td>99.99</td>\n",
       "      <td>11/09/19 13:56</td>\n",
       "      <td>522 Hill St, Boston, MA 02215</td>\n",
       "    </tr>\n",
       "  </tbody>\n",
       "</table>\n",
       "</div>"
      ],
      "text/plain": [
       "  Order ID                     Product Quantity Ordered Price Each  \\\n",
       "0   278797            Wired Headphones                1      11.99   \n",
       "1   278798        USB-C Charging Cable                2      11.95   \n",
       "2   278799    Apple Airpods Headphones                1      150.0   \n",
       "3   278800            27in FHD Monitor                1     149.99   \n",
       "4   278801  Bose SoundSport Headphones                1      99.99   \n",
       "\n",
       "       Order Date                      Purchase Address  \n",
       "0  11/21/19 09:54   46 Park St, New York City, NY 10001  \n",
       "1  11/17/19 10:03      962 Hickory St, Austin, TX 73301  \n",
       "2  11/19/19 14:56  464 Cherry St, Los Angeles, CA 90001  \n",
       "3  11/25/19 22:24        649 10th St, Seattle, WA 98101  \n",
       "4  11/09/19 13:56         522 Hill St, Boston, MA 02215  "
      ]
     },
     "execution_count": 7,
     "metadata": {},
     "output_type": "execute_result"
    }
   ],
   "source": [
    "test_all_sales_df.head()"
   ]
  },
  {
   "cell_type": "markdown",
   "id": "08eb20fc-0eb4-4ad1-9439-2e32897591b5",
   "metadata": {},
   "source": [
    "#### Question 1: Which month had the best sales? How much was earned that month?"
   ]
  },
  {
   "cell_type": "code",
   "execution_count": 8,
   "id": "3c3a5800-50bf-43d2-8f21-ccd7afff3d2c",
   "metadata": {},
   "outputs": [
    {
     "name": "stdout",
     "output_type": "stream",
     "text": [
      "2019-12 had the highest sales of all the months with $4613443.34.\n",
      " The worst month was 2020-01 with $8670.29 in sales.\n"
     ]
    }
   ],
   "source": [
    "## Step 1: Convert 'quantity ordered' and 'price each' columns to numeric (float for price, int for quantity)\n",
    "# This will force non-numeric values to NaN\n",
    "test_all_sales_df[\"Quantity Ordered\"] = pd.to_numeric(test_all_sales_df[\"Quantity Ordered\"], errors='coerce')\n",
    "test_all_sales_df[\"Price Each\"] = pd.to_numeric(test_all_sales_df[\"Price Each\"], errors='coerce')\n",
    "\n",
    "### Step 2: Create a new 'Sales Amount' column\n",
    "test_all_sales_df[\"Sales Amount\"] = test_all_sales_df[\"Quantity Ordered\"] * test_all_sales_df[\"Price Each\"]\n",
    "\n",
    "# Step 3: Convert 'date' column to datetime format \n",
    "test_all_sales_df['Order Date'] = pd.to_datetime(test_all_sales_df['Order Date'], format='%m/%d/%y %H:%M', errors='coerce')\n",
    "\n",
    "# Step 2: Create separate columns for the Order Date and Order Time\n",
    "test_all_sales_df['Date'] = test_all_sales_df['Order Date'].dt.date    # Extracts just the date (mm/dd/yyyy)\n",
    "test_all_sales_df['Time'] = test_all_sales_df['Order Date'].dt.time    # Extracts just the time (HH:MM)\n",
    "\n",
    "## Step 3: Convert the 'Order Date' column to datetime format\n",
    "test_all_sales_df[\"Date\"] = pd.to_datetime(test_all_sales_df[\"Date\"])\n",
    "\n",
    "### Step 4: Extract year and month from the 'Order Date' column\n",
    "test_all_sales_df[\"Year_Month\"] = test_all_sales_df[\"Date\"].dt.to_period(\"M\")\n",
    "\n",
    "### Step 5: Group by 'Year_Month' and sum the 'Sales Amount'\n",
    "monthly_sales = test_all_sales_df.groupby(\"Year_Month\")[\"Sales Amount\"].sum()\n",
    "\n",
    "### Step 6: Identify the month with the highest sales\n",
    "Highest_sales_month = monthly_sales.idxmax()\n",
    "Highest_sales_amount = monthly_sales.max()\n",
    "\n",
    "Lowest_sales_month = monthly_sales.idxmin()\n",
    "Lowest_sales_amount = monthly_sales.min()\n",
    "\n",
    "print(f\"{Highest_sales_month} had the highest sales of all the months with ${Highest_sales_amount:.2f}.\")\n",
    "\n",
    "print(f\" The worst month was {Lowest_sales_month} with ${Lowest_sales_amount:.2f} in sales.\")"
   ]
  },
  {
   "cell_type": "code",
   "execution_count": 9,
   "id": "57c0a8e4-34a8-46cc-baaa-a56f4db9de81",
   "metadata": {},
   "outputs": [
    {
     "data": {
      "text/html": [
       "<div>\n",
       "<style scoped>\n",
       "    .dataframe tbody tr th:only-of-type {\n",
       "        vertical-align: middle;\n",
       "    }\n",
       "\n",
       "    .dataframe tbody tr th {\n",
       "        vertical-align: top;\n",
       "    }\n",
       "\n",
       "    .dataframe thead th {\n",
       "        text-align: right;\n",
       "    }\n",
       "</style>\n",
       "<table border=\"1\" class=\"dataframe\">\n",
       "  <thead>\n",
       "    <tr style=\"text-align: right;\">\n",
       "      <th></th>\n",
       "      <th>Order ID</th>\n",
       "      <th>Product</th>\n",
       "      <th>Quantity Ordered</th>\n",
       "      <th>Price Each</th>\n",
       "      <th>Order Date</th>\n",
       "      <th>Purchase Address</th>\n",
       "      <th>Sales Amount</th>\n",
       "      <th>Date</th>\n",
       "      <th>Time</th>\n",
       "      <th>Year_Month</th>\n",
       "    </tr>\n",
       "  </thead>\n",
       "  <tbody>\n",
       "    <tr>\n",
       "      <th>0</th>\n",
       "      <td>278797</td>\n",
       "      <td>Wired Headphones</td>\n",
       "      <td>1.0</td>\n",
       "      <td>11.99</td>\n",
       "      <td>2019-11-21 09:54:00</td>\n",
       "      <td>46 Park St, New York City, NY 10001</td>\n",
       "      <td>11.99</td>\n",
       "      <td>2019-11-21</td>\n",
       "      <td>09:54:00</td>\n",
       "      <td>2019-11</td>\n",
       "    </tr>\n",
       "    <tr>\n",
       "      <th>1</th>\n",
       "      <td>278798</td>\n",
       "      <td>USB-C Charging Cable</td>\n",
       "      <td>2.0</td>\n",
       "      <td>11.95</td>\n",
       "      <td>2019-11-17 10:03:00</td>\n",
       "      <td>962 Hickory St, Austin, TX 73301</td>\n",
       "      <td>23.90</td>\n",
       "      <td>2019-11-17</td>\n",
       "      <td>10:03:00</td>\n",
       "      <td>2019-11</td>\n",
       "    </tr>\n",
       "    <tr>\n",
       "      <th>2</th>\n",
       "      <td>278799</td>\n",
       "      <td>Apple Airpods Headphones</td>\n",
       "      <td>1.0</td>\n",
       "      <td>150.00</td>\n",
       "      <td>2019-11-19 14:56:00</td>\n",
       "      <td>464 Cherry St, Los Angeles, CA 90001</td>\n",
       "      <td>150.00</td>\n",
       "      <td>2019-11-19</td>\n",
       "      <td>14:56:00</td>\n",
       "      <td>2019-11</td>\n",
       "    </tr>\n",
       "    <tr>\n",
       "      <th>3</th>\n",
       "      <td>278800</td>\n",
       "      <td>27in FHD Monitor</td>\n",
       "      <td>1.0</td>\n",
       "      <td>149.99</td>\n",
       "      <td>2019-11-25 22:24:00</td>\n",
       "      <td>649 10th St, Seattle, WA 98101</td>\n",
       "      <td>149.99</td>\n",
       "      <td>2019-11-25</td>\n",
       "      <td>22:24:00</td>\n",
       "      <td>2019-11</td>\n",
       "    </tr>\n",
       "    <tr>\n",
       "      <th>4</th>\n",
       "      <td>278801</td>\n",
       "      <td>Bose SoundSport Headphones</td>\n",
       "      <td>1.0</td>\n",
       "      <td>99.99</td>\n",
       "      <td>2019-11-09 13:56:00</td>\n",
       "      <td>522 Hill St, Boston, MA 02215</td>\n",
       "      <td>99.99</td>\n",
       "      <td>2019-11-09</td>\n",
       "      <td>13:56:00</td>\n",
       "      <td>2019-11</td>\n",
       "    </tr>\n",
       "  </tbody>\n",
       "</table>\n",
       "</div>"
      ],
      "text/plain": [
       "  Order ID                     Product  Quantity Ordered  Price Each  \\\n",
       "0   278797            Wired Headphones               1.0       11.99   \n",
       "1   278798        USB-C Charging Cable               2.0       11.95   \n",
       "2   278799    Apple Airpods Headphones               1.0      150.00   \n",
       "3   278800            27in FHD Monitor               1.0      149.99   \n",
       "4   278801  Bose SoundSport Headphones               1.0       99.99   \n",
       "\n",
       "           Order Date                      Purchase Address  Sales Amount  \\\n",
       "0 2019-11-21 09:54:00   46 Park St, New York City, NY 10001         11.99   \n",
       "1 2019-11-17 10:03:00      962 Hickory St, Austin, TX 73301         23.90   \n",
       "2 2019-11-19 14:56:00  464 Cherry St, Los Angeles, CA 90001        150.00   \n",
       "3 2019-11-25 22:24:00        649 10th St, Seattle, WA 98101        149.99   \n",
       "4 2019-11-09 13:56:00         522 Hill St, Boston, MA 02215         99.99   \n",
       "\n",
       "        Date      Time Year_Month  \n",
       "0 2019-11-21  09:54:00    2019-11  \n",
       "1 2019-11-17  10:03:00    2019-11  \n",
       "2 2019-11-19  14:56:00    2019-11  \n",
       "3 2019-11-25  22:24:00    2019-11  \n",
       "4 2019-11-09  13:56:00    2019-11  "
      ]
     },
     "execution_count": 9,
     "metadata": {},
     "output_type": "execute_result"
    }
   ],
   "source": [
    "test_all_sales_df.head()"
   ]
  },
  {
   "cell_type": "markdown",
   "id": "5da0419d-f391-4a37-9141-fe8b8bf7af7b",
   "metadata": {},
   "source": [
    "#### Graph of Monthly Sales"
   ]
  },
  {
   "cell_type": "code",
   "execution_count": 10,
   "id": "02af3721-9434-4970-8888-bd2747235237",
   "metadata": {},
   "outputs": [
    {
     "data": {
      "image/png": "[encoded data removed]",
      "text/plain": [
       "<Figure size 1000x600 with 1 Axes>"
      ]
     },
     "metadata": {},
     "output_type": "display_data"
    }
   ],
   "source": [
    "### Group by 'Year_Month' and sum the 'Sales Amount'\n",
    "monthly_sales = test_all_sales_df.groupby(\"Year_Month\")[\"Sales Amount\"].sum()\n",
    "\n",
    "### Plot the monthly sales\n",
    "plt.figure(figsize=(10, 6))\n",
    "monthly_sales.plot(kind='bar', color='skyblue')\n",
    "plt.title('Monthly Sales')\n",
    "plt.xlabel('Year_Month')\n",
    "plt.ylabel('Total Sales ($)')\n",
    "plt.xticks(rotation=45)\n",
    "plt.tight_layout()\n",
    "\n",
    "plt.show()"
   ]
  },
  {
   "cell_type": "code",
   "execution_count": null,
   "id": "ab6b0c92-6f0c-4543-9c7f-549db318428c",
   "metadata": {},
   "outputs": [],
   "source": []
  }
 ],
 "metadata": {
  "kernelspec": {
   "display_name": "Python 3 (ipykernel)",
   "language": "python",
   "name": "python3"
  },
  "language_info": {
   "codemirror_mode": {
    "name": "ipython",
    "version": 3
   },
   "file_extension": ".py",
   "mimetype": "text/x-python",
   "name": "python",
   "nbconvert_exporter": "python",
   "pygments_lexer": "ipython3",
   "version": "3.12.4"
  }
 },
 "nbformat": 4,
 "nbformat_minor": 5
}
